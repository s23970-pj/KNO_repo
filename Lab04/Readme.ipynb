{
 "cells": [
  {
   "metadata": {},
   "cell_type": "markdown",
   "source": "<h3>OPTYMALIZACJA HIPERPARAMETRÓW-For english google translate</h3>",
   "id": "abc3f547cfe82d31"
  },
  {
   "metadata": {},
   "cell_type": "markdown",
   "source": "Praca na bazie z LAB03 - wine",
   "id": "e0ab361ca4f5c55c"
  },
  {
   "metadata": {},
   "cell_type": "code",
   "outputs": [],
   "execution_count": null,
   "source": "",
   "id": "1d58639f322594c"
  },
  {
   "cell_type": "code",
   "execution_count": null,
   "id": "initial_id",
   "metadata": {
    "collapsed": true
   },
   "outputs": [],
   "source": [
    ""
   ]
  }
 ],
 "metadata": {
  "kernelspec": {
   "display_name": "Python 3",
   "language": "python",
   "name": "python3"
  },
  "language_info": {
   "codemirror_mode": {
    "name": "ipython",
    "version": 2
   },
   "file_extension": ".py",
   "mimetype": "text/x-python",
   "name": "python",
   "nbconvert_exporter": "python",
   "pygments_lexer": "ipython2",
   "version": "2.7.6"
  }
 },
 "nbformat": 4,
 "nbformat_minor": 5
}
